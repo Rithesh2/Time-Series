{
 "cells": [
  {
   "cell_type": "code",
   "execution_count": 1,
   "metadata": {},
   "outputs": [],
   "source": [
    "from chronos_utils import *"
   ]
  },
  {
   "cell_type": "code",
   "execution_count": 2,
   "metadata": {},
   "outputs": [],
   "source": [
    "samples_local_path = 'mit-bih-arrhythmia-database-1.0.0'\n",
    "observation_names = sorted(list(set([x[:-4] for x in os.listdir(samples_local_path) if (((x[0]=='2') | (x[0] == '1')) & (len(x) == 7))])))"
   ]
  },
  {
   "cell_type": "code",
   "execution_count": 3,
   "metadata": {},
   "outputs": [
    {
     "name": "stdout",
     "output_type": "stream",
     "text": [
      "KeyError for observation 102 - skipping this observation.\n",
      "KeyError for observation 104 - skipping this observation.\n"
     ]
    }
   ],
   "source": [
    "save_dict = {}\n",
    "for filename_base in observation_names:\n",
    "    file_path = samples_local_path + '/' + filename_base\n",
    "\n",
    "    try:\n",
    "        MLII = create_record(filepath = file_path, column_subset=['MLII'])\n",
    "        MLII_quant = quantile_outlier_removal(MLII, column_name = 'MLII', quantile_min=0.00001, quantile_max = 0.99999)\n",
    "        MLII_SMA = simple_moving_average(MLII_quant, 3)\n",
    "        MLII_medfilt = median_filtering(MLII_SMA['MLII'],3)\n",
    "        MLII_sos = sos_filter(MLII_medfilt)\n",
    "        MLII_notch = notch_filtering(MLII_sos)\n",
    "        final_df = normalizer(MLII_notch)\n",
    "        save_dict.update({'a' + filename_base : final_df})\n",
    "    except KeyError:\n",
    "        print('KeyError for observation', filename_base, '- skipping this observation.')\n"
   ]
  },
  {
   "cell_type": "code",
   "execution_count": 4,
   "metadata": {},
   "outputs": [],
   "source": [
    "np.savez_compressed('MIT-BIH.npz', **save_dict)"
   ]
  },
  {
   "cell_type": "code",
   "execution_count": 6,
   "metadata": {},
   "outputs": [
    {
     "name": "stdout",
     "output_type": "stream",
     "text": [
      "['a100', 'a101', 'a103', 'a105', 'a106', 'a107', 'a108', 'a109', 'a111', 'a112', 'a113', 'a114', 'a115', 'a116', 'a117', 'a118', 'a119', 'a121', 'a122', 'a123', 'a124', 'a200', 'a201', 'a202', 'a203', 'a205', 'a207', 'a208', 'a209', 'a210', 'a212', 'a213', 'a214', 'a215', 'a217', 'a219', 'a220', 'a221', 'a222', 'a223', 'a228', 'a230', 'a231', 'a232', 'a233', 'a234']\n"
     ]
    },
    {
     "data": {
      "text/plain": [
       "array([0.35991953, 0.3479142 , 0.33054982, ..., 0.63243908, 0.49723198,\n",
       "       0.34611849])"
      ]
     },
     "execution_count": 6,
     "metadata": {},
     "output_type": "execute_result"
    }
   ],
   "source": [
    "with np.load('MIT-BIH.npz') as data:\n",
    "    print(data.files)\n",
    "    a = data['a100']\n",
    "\n",
    "\n",
    "a"
   ]
  },
  {
   "cell_type": "code",
   "execution_count": null,
   "metadata": {},
   "outputs": [],
   "source": []
  }
 ],
 "metadata": {
  "kernelspec": {
   "display_name": ".venv",
   "language": "python",
   "name": "python3"
  },
  "language_info": {
   "codemirror_mode": {
    "name": "ipython",
    "version": 3
   },
   "file_extension": ".py",
   "mimetype": "text/x-python",
   "name": "python",
   "nbconvert_exporter": "python",
   "pygments_lexer": "ipython3",
   "version": "3.12.2"
  }
 },
 "nbformat": 4,
 "nbformat_minor": 2
}
